{
 "cells": [
  {
   "cell_type": "code",
   "execution_count": 1,
   "metadata": {},
   "outputs": [],
   "source": [
    "# 라이브러리\n",
    "\n",
    "import pandas as pd\n",
    "pd.set_option(\"display.max_seq_item\", None)\n",
    "import numpy as np\n",
    "np.set_printoptions(threshold=np.inf, linewidth=np.inf)\n",
    "from scipy import stats\n",
    "import matplotlib.pyplot as plt\n",
    "import copy\n",
    "from sklearn.model_selection import train_test_split\n",
    "\n",
    "# for logistic regression & Evaluation\n",
    "import statsmodels.api as sm\n",
    "from sklearn.metrics import accuracy_score, confusion_matrix, recall_score, f1_score, precision_score, roc_auc_score\n",
    "\n",
    "\n",
    "import warnings \n",
    "warnings.filterwarnings(\"ignore\")\n",
    "\n",
    "import os"
   ]
  },
  {
   "cell_type": "code",
   "execution_count": 2,
   "metadata": {},
   "outputs": [
    {
     "data": {
      "text/plain": [
       "['contact_offering_model2.csv',\n",
       " '.DS_Store',\n",
       " 'contact_activity_model.csv',\n",
       " 'model_data_범주형행동.csv',\n",
       " 'contact_activity_model2.csv',\n",
       " 'Contact_offering_matches.csv',\n",
       " 'contact_offering_model.csv',\n",
       " 'model_data_연속형행동.csv',\n",
       " 'model_data_이항형행동.csv',\n",
       " 'Contact_activity_offering.csv']"
      ]
     },
     "execution_count": 2,
     "metadata": {},
     "output_type": "execute_result"
    }
   ],
   "source": [
    "os.listdir('../processed_data/Data for Modelling/')"
   ]
  },
  {
   "cell_type": "code",
   "execution_count": 3,
   "metadata": {},
   "outputs": [],
   "source": [
    "# 데이터 경로\n",
    "\n",
    "data_path = '../processed_data/Data for Modelling/'"
   ]
  },
  {
   "cell_type": "code",
   "execution_count": 6,
   "metadata": {},
   "outputs": [],
   "source": [
    "# 로지스틱 회귀모형 성능 평가\n",
    "\n",
    "def evaluation_logis(c_or_b):\n",
    "\n",
    "    if c_or_b == 'c':\n",
    "        # 데이터 불러오기(연속형)\n",
    "\n",
    "        global full_conti_data\n",
    "        full_conti_data = pd.read_csv(data_path + 'model_data_연속형행동.csv')\n",
    "        full_conti_data = full_conti_data[(full_conti_data['Y1'] == 1) & (full_conti_data['Mapping'].isna() == False)]\n",
    "        full_conti_data.drop(['CompanyID', 'sent_offer', '고객관심rank1', '고객관심rank2', '고객관심rank3', 'match', 'Mapping', '첫행동날짜', '리드생성/마지막날짜', '여정', 'Y1','duration', 'counsel', 'inquiry'], axis=1, inplace=True)\n",
    "        global X_conti_data\n",
    "        X_conti_data = full_conti_data.drop(['ContactID', 'Y2'], axis=1)\n",
    "        global Y_conti_data\n",
    "        Y_conti_data = full_conti_data[['Y2']]\n",
    "\n",
    "        X_train, X_test, y_train, y_test = train_test_split(X_conti_data, Y_conti_data,  \n",
    "                                                            test_size = 0.25,\n",
    "                                                            stratify = Y_conti_data, \n",
    "                                                            random_state=123)\n",
    "        X_train_const = sm.add_constant(X_train, has_constant=\"add\")\n",
    "        logis_conti_check = sm.Logit(y_train, X_train_const).fit()\n",
    "\n",
    "        X_test_const = sm.add_constant(X_test, has_constant=\"add\")\n",
    "        train_yhat = logis_conti_check.predict(X_train_const)\n",
    "        train_prediction = list(map(round, train_yhat))\n",
    "        yhat = logis_conti_check.predict(X_test_const)\n",
    "        prediction = list(map(round, yhat))\n",
    "\n",
    "        train_acc = round(accuracy_score(y_train, train_prediction), 4)\n",
    "        acc = round(accuracy_score(y_test, prediction), 4)\n",
    "        precision =  round(precision_score(y_test, prediction), 4)\n",
    "        recall = round(recall_score(y_test, prediction), 4)\n",
    "        f1 = round(2*recall*precision/(recall+precision),4)\n",
    "        #auc = round(roc_auc_score(y_test, prediction),4)\n",
    "\n",
    "        print('연속형 행동변수를 사용한 로지스틱 회귀모형의 성능')\n",
    "        print('Train accuracy(정확도) = ', train_acc)\n",
    "        print('Test accuracy(정확도) = ', acc)\n",
    "        print('Precision score(정밀도) = ',precision)\n",
    "        print('Recall score(재현률) = ', recall)\n",
    "        #print('AUC = ', auc)\n",
    "        print('f1 = ', f1)\n",
    "\n",
    "    if c_or_b == 'b':\n",
    "\n",
    "        # 데이터 불러오기(범주형)\n",
    "\n",
    "        global full_binary_data\n",
    "        full_binary_data = pd.read_csv(data_path + 'model_data_범주형행동.csv')\n",
    "        full_binary_data = full_binary_data[(full_binary_data['Y1'] == 1) & (full_binary_data['Mapping'].isna() == False)]\n",
    "        full_binary_data.drop(['CompanyID', 'sent_offer', '고객관심rank1', '고객관심rank2', '고객관심rank3', 'match', 'Mapping', '첫행동날짜', '리드생성/마지막날짜', '여정', 'Y1','duration', 'counsel', 'inquiry'], axis=1, inplace=True)\n",
    "        global X_binary_data\n",
    "        X_binary_data = full_binary_data.drop(['ContactID', 'Y2'], axis=1)\n",
    "        global Y_binary_data\n",
    "        Y_binary_data = full_binary_data[['Y2']]\n",
    "\n",
    "        X_train, X_test, y_train, y_test = train_test_split(X_binary_data, Y_binary_data,  \n",
    "                                                            test_size = 0.25,\n",
    "                                                            stratify = Y_binary_data, \n",
    "                                                            random_state=123)\n",
    "        X_train_const = sm.add_constant(X_train, has_constant=\"add\")\n",
    "        logis_binary_check = sm.Logit(y_train, X_train_const).fit()\n",
    "\n",
    "        X_test_const = sm.add_constant(X_test, has_constant=\"add\")\n",
    "        train_yhat = logis_binary_check.predict(X_train_const)\n",
    "        train_prediction = list(map(round, train_yhat))\n",
    "        yhat = logis_binary_check.predict(X_test_const)\n",
    "        prediction = list(map(round, yhat))\n",
    "\n",
    "        train_acc = round(accuracy_score(y_train, train_prediction), 4)\n",
    "        acc = round(accuracy_score(y_test, prediction), 4)\n",
    "        precision =  round(precision_score(y_test, prediction), 4)\n",
    "        recall = round(recall_score(y_test, prediction), 4)\n",
    "        f1 = round(2*recall*precision/(recall+precision),4)\n",
    "        #auc = round(roc_auc_score(y_test, prediction),4)\n",
    "\n",
    "        print('범주형 행동변수를 사용한 로지스틱 회귀모형의 성능')\n",
    "        print('Train accuracy(정확도) = ', train_acc)\n",
    "        print('Test accuracy(정확도) = ', acc)\n",
    "        print('Precision score(정밀도) = ',precision)\n",
    "        print('Recall score(재현률) = ', recall)\n",
    "        #print('AUC = ', auc)\n",
    "        print('f1 = ', f1)"
   ]
  },
  {
   "cell_type": "code",
   "execution_count": 7,
   "metadata": {},
   "outputs": [
    {
     "name": "stdout",
     "output_type": "stream",
     "text": [
      "Optimization terminated successfully.\n",
      "         Current function value: 0.092039\n",
      "         Iterations 24\n",
      "연속형 행동변수를 사용한 로지스틱 회귀모형의 성능\n",
      "Train accuracy(정확도) =  0.9792\n",
      "Test accuracy(정확도) =  0.978\n",
      "Precision score(정밀도) =  0.95\n",
      "Recall score(재현률) =  0.1919\n",
      "f1 =  0.3193\n"
     ]
    }
   ],
   "source": [
    "evaluation_logis('c')"
   ]
  },
  {
   "cell_type": "code",
   "execution_count": 8,
   "metadata": {},
   "outputs": [
    {
     "name": "stdout",
     "output_type": "stream",
     "text": [
      "Warning: Maximum number of iterations has been exceeded.\n",
      "         Current function value: 0.077521\n",
      "         Iterations: 35\n",
      "범주형 행동변수를 사용한 로지스틱 회귀모형의 성능\n",
      "Train accuracy(정확도) =  0.9836\n",
      "Test accuracy(정확도) =  0.9805\n",
      "Precision score(정밀도) =  1.0\n",
      "Recall score(재현률) =  0.2727\n",
      "f1 =  0.4285\n"
     ]
    }
   ],
   "source": [
    "evaluation_logis('b')"
   ]
  },
  {
   "cell_type": "code",
   "execution_count": null,
   "metadata": {},
   "outputs": [],
   "source": []
  }
 ],
 "metadata": {
  "kernelspec": {
   "display_name": "base",
   "language": "python",
   "name": "python3"
  },
  "language_info": {
   "codemirror_mode": {
    "name": "ipython",
    "version": 3
   },
   "file_extension": ".py",
   "mimetype": "text/x-python",
   "name": "python",
   "nbconvert_exporter": "python",
   "pygments_lexer": "ipython3",
   "version": "3.8.8"
  },
  "orig_nbformat": 4,
  "vscode": {
   "interpreter": {
    "hash": "aee46483e03dd00bbadef91288d19ca94e003890a80a63251c8b4f9b37feb545"
   }
  }
 },
 "nbformat": 4,
 "nbformat_minor": 2
}
