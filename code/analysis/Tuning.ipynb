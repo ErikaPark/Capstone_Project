{
 "cells": [
  {
   "cell_type": "code",
   "execution_count": 1,
   "id": "494e99e4",
   "metadata": {},
   "outputs": [],
   "source": [
    "#load libraries\n",
    "import pandas as pd\n",
    "import numpy as np\n",
    "import matplotlib.pyplot as plt\n",
    "plt.rcParams['axes.unicode_minus'] = False \n",
    "\n",
    "import seaborn as sns\n",
    "import warnings \n",
    "warnings.filterwarnings(\"ignore\")\n",
    "\n",
    "from sklearn.pipeline import Pipeline\n",
    "from sklearn.model_selection import train_test_split\n",
    "from sklearn.pipeline import Pipeline\n",
    "\n",
    "# Algorithms\n",
    "\n",
    "from sklearn.ensemble import RandomForestClassifier\n",
    "from xgboost import XGBClassifier\n",
    "\n",
    "# Evaluation \n",
    "from sklearn.metrics import *\n",
    "from sklearn.metrics import accuracy_score, confusion_matrix, recall_score, f1_score, precision_score, roc_auc_score\n",
    "from sklearn.model_selection import GridSearchCV\n",
    "from sklearn.model_selection import StratifiedKFold\n",
    "from sklearn.model_selection import cross_val_score\n",
    "from sklearn.model_selection import cross_validate"
   ]
  },
  {
   "cell_type": "code",
   "execution_count": 2,
   "id": "e78e40dc",
   "metadata": {},
   "outputs": [
    {
     "data": {
      "text/plain": [
       "['.DS_Store', 'model_data_연속형행동.csv', 'model_data_이항형행동.csv']"
      ]
     },
     "execution_count": 2,
     "metadata": {},
     "output_type": "execute_result"
    }
   ],
   "source": [
    "import os \n",
    "os.listdir('../../data/modelling_data/')"
   ]
  },
  {
   "cell_type": "code",
   "execution_count": 3,
   "id": "cf6e7e09",
   "metadata": {},
   "outputs": [],
   "source": [
    "from sklearn.model_selection import train_test_split\n",
    "\n",
    "def split_data(data):\n",
    "    \n",
    "    data =  data[(data.Y1 == 1) & (data.Mapping.notna())]\n",
    "    x_col =  ['quantile', 'Title_C-Level',\n",
    "       'Title_Manager', 'Title_Team Leader', 'Title_etc', 'Industry_산업_IT서비스',\n",
    "       'Industry_산업_others', 'Industry_산업_금융', 'Industry_산업_일반서비스',\n",
    "       'Industry_산업_제조', 'isfam_1.0', 'first_action_1', '고객등급_1', '고객등급_2',\n",
    "       '고객등급_3', '고객등급_4', '고객등급_5', '고객등급_6', '고객등급_7','webvisit', 'EmailClickthrough',\n",
    "       'EmailOpen', 'register', 'subscribe', 'download', 'survey','event',  'service_request', 'attend']\n",
    "\n",
    "    X = data[x_col]; y = data.Y2\n",
    "   \n",
    "    return X, y\n",
    "    \n",
    "def get_settings():\n",
    "    #Classifiers\n",
    "    clf1 = RandomForestClassifier(random_state=123)\n",
    "    clf2 = XGBClassifier(random_state=123, use_label_encoder =False)\n",
    "\n",
    "    #Random Forest \n",
    "    param_grid1 = [{'max_depth': [5, 10, 20, 30, None],\n",
    "                    'min_samples_leaf': [1,2,4],\n",
    "                   'min_samples_split': [2, 3, None], \n",
    "                    'n_estimators': [100, 200, 400, 1000]}] \n",
    "\n",
    "    # XGBClassifier\n",
    "    param_grid2 = [{'n_estimators': [500, 1000, 2000],\n",
    "                    'learning_rate': [0.01, 0.05, 0.1, 1],\n",
    "                    'max_depth': [None, 6, 9, 12]}]\n",
    "    \n",
    "    return clf1,clf2, param_grid1, param_grid2\n",
    "\n",
    "def CV10_model_selection(X_train, y_train, clf1, clf2, param_grid1, param_grid2):\n",
    "    # 10 fold CV \n",
    "    # Algorithm Selection \n",
    "    print('\\n10-CV')\n",
    "    results = []\n",
    "    for name, clf, param_grid in zip(('Random Forest', 'XGBoost'),(clf1,  clf2),(param_grid1, param_grid2)):\n",
    "        gcv_model_select_i = GridSearchCV(estimator=clf,\n",
    "                                          param_grid=param_grid,\n",
    "                                          scoring='accuracy',\n",
    "                                          n_jobs= -1,\n",
    "                                          cv =10,\n",
    "                                          verbose=1,\n",
    "                                          refit=True)\n",
    "        gcv_model_select_i.fit(X_train, y_train)\n",
    "        results.append(gcv_model_select_i)\n",
    "        print('- ',name)\n",
    "        print('Best CV accuracy: %.2f%%' % (gcv_model_select_i.best_score_*100),', \\nBest parameters:', gcv_model_select_i.best_params_ )\n",
    "    return results\n",
    "\n",
    "def CV5_score(results, X_train, y_train):\n",
    "    classifiers = [results[0].best_estimator_ , results[1].best_estimator_ ]\n",
    "    names = ['Random Forests', 'XGBoost']\n",
    "    evaluations = {}\n",
    "    print('\\n5-Cross Validate Score')\n",
    "    for clf, name in zip(classifiers, names):\n",
    "\n",
    "        evaluations[name] = {'accuracy':[], 'precision':[], 'recall':[], 'f1':[]}\n",
    "        for score in ['accuracy', 'precision', 'recall', 'f1']:\n",
    "            scores = cross_validate(clf, X_train, y_train, scoring=score,\n",
    "                                 cv=5, return_train_score= False)\n",
    "            evaluations[name][score] = scores\n",
    "\n",
    "\n",
    "    for name in names: \n",
    "        result = evaluations[name]\n",
    "        acc = result['accuracy']['test_score'].mean()\n",
    "        precision = result['precision']['test_score'].mean()\n",
    "        recall = result['recall']['test_score'].mean()\n",
    "        f1 = result['f1']['test_score'].mean()\n",
    "        print('- ',name)\n",
    "        print('      Mean Accuracy:', round(acc,4))\n",
    "        print('      Mean Precision:', round(precision,4))\n",
    "        print('      Mean Recall:', round(recall,4))\n",
    "        print('      Mean f1:', round(f1,4))\n",
    "    return evaluations\n",
    "\n",
    "def fit_evaluate(results, X_train, y_train, X_test, y_test):\n",
    "    #Fit on training & Evaluating on test set \n",
    "    classifiers = [results[0].best_estimator_ , results[1].best_estimator_ ]\n",
    "    names = ['Random Forests', 'XGBoost']\n",
    "    print('\\nEvaluation on Test Set')\n",
    "    \n",
    "    for clf, name in zip(classifiers, names):\n",
    "        best_model = clf\n",
    "        best_model.fit(X_train, y_train)\n",
    "\n",
    "        prediction = best_model.predict(X_test)\n",
    "\n",
    "        train_acc = round(accuracy_score(y_train, best_model.predict(X_train)),4)\n",
    "        test_acc = round(accuracy_score(y_test, prediction),4)\n",
    "\n",
    "        precision =  round(precision_score(y_test, prediction), 4)\n",
    "        recall = round(recall_score(y_test, prediction), 4)\n",
    "        f1 = round(2*recall*precision/(recall+precision),4)\n",
    "        auc = round(roc_auc_score(y_test, prediction),4)\n",
    "        print(' - ',name)\n",
    "        print('      Train Accuracy: %.2f%%' % (100 * train_acc))\n",
    "        print('      Test Accuracy: %.2f%%' % (100 * test_acc))\n",
    "\n",
    "        print('      Precision: ',precision)\n",
    "        print('      Recall: ', recall)\n",
    "        print('      AUC: ', auc)\n",
    "        print('      f1: ', f1)\n",
    "\n",
    "        matrix = np.array(confusion_matrix(y_test, prediction))\n",
    "        #con_mat_norm = np.around(matrix.astype('float') / matrix.sum(axis=1)[:, np.newaxis], decimals=2)\n",
    "        con_mat_df = pd.DataFrame(matrix)\n",
    "        #con_norm_df = pd.DataFrame(con_mat_norm)\n",
    "\n",
    "        figure = plt.figure(figsize=(5, 5))\n",
    "\n",
    "        sns.heatmap(con_mat_df, annot=True,fmt='d',cmap=plt.cm.Blues)\n",
    "        plt.ylabel('True label')\n",
    "        plt.xlabel('Predicted label')\n",
    "        plt.title('Confusion Matrix (count)')\n",
    "        plt.show()\n"
   ]
  },
  {
   "cell_type": "code",
   "execution_count": 4,
   "id": "44cc4767",
   "metadata": {},
   "outputs": [],
   "source": [
    "model_data_path = '../../data/modelling_data/'\n",
    "\n",
    "def train_model(model_data_path, option = 'binary'):\n",
    "    if option == 'continuous':\n",
    "        data = pd.read_csv(model_data_path + 'model_data_연속형행동.csv')\n",
    "    else:\n",
    "        data =  pd.read_csv(model_data_path + 'model_data_이항형행동.csv')\n",
    "    X, y = split_data(data)\n",
    "    X_train, X_test, y_train, y_test =  train_test_split(X, y,  \n",
    "                                                         test_size = 0.25,\n",
    "                                                         stratify = y, \n",
    "                                                         random_state=123) # train_test_split 함수 사용 \n",
    "    clf1,clf2, param_grid1, param_grid2 = get_settings()\n",
    "    results = CV10_model_selection(X_train, y_train, clf1, clf2, param_grid1, param_grid2)\n",
    "    evaluations = CV5_score(results, X_train, y_train)\n",
    "    fit_evaluate(results, X_train, y_train, X_test, y_test)\n",
    "    return results, evaluations\n",
    "    \n",
    "    "
   ]
  },
  {
   "cell_type": "code",
   "execution_count": 5,
   "id": "1ef25fb3",
   "metadata": {},
   "outputs": [
    {
     "name": "stdout",
     "output_type": "stream",
     "text": [
      "\n",
      "10-CV\n",
      "Fitting 10 folds for each of 180 candidates, totalling 1800 fits\n",
      "-  Random Forest\n",
      "Best CV accuracy: 98.44% , \n",
      "Best parameters: {'max_depth': 10, 'min_samples_leaf': 1, 'min_samples_split': 2, 'n_estimators': 200}\n",
      "Fitting 10 folds for each of 48 candidates, totalling 480 fits\n",
      "-  XGBoost\n",
      "Best CV accuracy: 98.51% , \n",
      "Best parameters: {'learning_rate': 0.01, 'max_depth': None, 'n_estimators': 1000}\n",
      "\n",
      "5-Cross Validate Score\n",
      "-  Random Forests\n",
      "      Mean Accuracy: 0.9845\n",
      "      Mean Precision: 1.0\n",
      "      Mean Recall: 0.4262\n",
      "      Mean f1: 0.5967\n",
      "-  XGBoost\n",
      "      Mean Accuracy: 0.9849\n",
      "      Mean Precision: 0.9845\n",
      "      Mean Recall: 0.4462\n",
      "      Mean f1: 0.6136\n",
      "\n",
      "Evaluation on Test Set\n",
      " -  Random Forests\n",
      "      Train Accuracy: 98.50%\n",
      "      Test Accuracy: 98.05%\n",
      "      Precision:  1.0\n",
      "      Recall:  0.2727\n",
      "      AUC:  0.6364\n",
      "      f1:  0.4285\n"
     ]
    },
    {
     "data": {
      "image/png": "[encoded data removed]",
      "text/plain": [
       "<Figure size 360x360 with 2 Axes>"
      ]
     },
     "metadata": {
      "needs_background": "light"
     },
     "output_type": "display_data"
    },
    {
     "name": "stdout",
     "output_type": "stream",
     "text": [
      " -  XGBoost\n",
      "      Train Accuracy: 98.58%\n",
      "      Test Accuracy: 98.10%\n",
      "      Precision:  1.0\n",
      "      Recall:  0.2929\n",
      "      AUC:  0.6465\n",
      "      f1:  0.4531\n"
     ]
    },
    {
     "data": {
      "image/png": "[encoded data removed]",
      "text/plain": [
       "<Figure size 360x360 with 2 Axes>"
      ]
     },
     "metadata": {
      "needs_background": "light"
     },
     "output_type": "display_data"
    }
   ],
   "source": [
    "binary_result, binary_cv5_result = train_model(model_data_path, option = 'binary')"
   ]
  },
  {
   "cell_type": "code",
   "execution_count": 6,
   "id": "8cb3580b",
   "metadata": {},
   "outputs": [
    {
     "name": "stdout",
     "output_type": "stream",
     "text": [
      "\n",
      "10-CV\n",
      "Fitting 10 folds for each of 180 candidates, totalling 1800 fits\n",
      "-  Random Forest\n",
      "Best CV accuracy: 98.47% , \n",
      "Best parameters: {'max_depth': 20, 'min_samples_leaf': 1, 'min_samples_split': 3, 'n_estimators': 100}\n",
      "Fitting 10 folds for each of 48 candidates, totalling 480 fits\n",
      "-  XGBoost\n",
      "Best CV accuracy: 98.54% , \n",
      "Best parameters: {'learning_rate': 0.05, 'max_depth': None, 'n_estimators': 500}\n",
      "\n",
      "5-Cross Validate Score\n",
      "-  Random Forests\n",
      "      Mean Accuracy: 0.9848\n",
      "      Mean Precision: 1.0\n",
      "      Mean Recall: 0.4362\n",
      "      Mean f1: 0.6065\n",
      "-  XGBoost\n",
      "      Mean Accuracy: 0.9846\n",
      "      Mean Precision: 0.9345\n",
      "      Mean Recall: 0.4631\n",
      "      Mean f1: 0.6178\n",
      "\n",
      "Evaluation on Test Set\n",
      " -  Random Forests\n",
      "      Train Accuracy: 99.25%\n",
      "      Test Accuracy: 98.02%\n",
      "      Precision:  0.9333\n",
      "      Recall:  0.2828\n",
      "      AUC:  0.6411\n",
      "      f1:  0.4341\n"
     ]
    },
    {
     "data": {
      "image/png": "[encoded data removed]",
      "text/plain": [
       "<Figure size 360x360 with 2 Axes>"
      ]
     },
     "metadata": {
      "needs_background": "light"
     },
     "output_type": "display_data"
    },
    {
     "name": "stdout",
     "output_type": "stream",
     "text": [
      " -  XGBoost\n",
      "      Train Accuracy: 99.14%\n",
      "      Test Accuracy: 98.05%\n",
      "      Precision:  0.8857\n",
      "      Recall:  0.3131\n",
      "      AUC:  0.656\n",
      "      f1:  0.4627\n"
     ]
    },
    {
     "data": {
      "image/png": "[encoded data removed]",
      "text/plain": [
       "<Figure size 360x360 with 2 Axes>"
      ]
     },
     "metadata": {
      "needs_background": "light"
     },
     "output_type": "display_data"
    }
   ],
   "source": [
    "continuous_result, continuous_cv5_result = train_model(model_data_path, option = 'continuous')"
   ]
  },
  {
   "cell_type": "code",
   "execution_count": 7,
   "id": "fe9946e6",
   "metadata": {},
   "outputs": [],
   "source": [
    "\n",
    "# def compare_f1_accuracy(results, X_train, y_train):\n",
    "#     rf = results[0].best_estimator_ \n",
    "#     xg = results[1].best_estimator_\n",
    "\n",
    "#     print('\\nRandom Forest \\n  ',rf , '\\nXGBoost \\n.  ',xg)\n",
    "#     cv5_f1 = []; cv5_acc = []\n",
    "#     for model in [rf, xg]:\n",
    "#         cv_acc =cross_val_score(model, # 지정해주기 \n",
    "#                                 X = X_train, y = y_train,\n",
    "#                                 scoring=\"f1\",cv=StratifiedKFold(n_splits=5, random_state=123, shuffle=True),\n",
    "#                                 n_jobs=2)\n",
    "#         cv_acc2 =cross_val_score(model, # 지정해주기 \n",
    "#                                  X = X_train, y = y_train,\n",
    "#                               cv=StratifiedKFold(n_splits=5, random_state=123, shuffle=True),\n",
    "#                               n_jobs=2)\n",
    "#         print('Mean F1: %.2f%%' % (np.mean(cv_acc)*100))\n",
    "#         print('Mean Acc: %.2f%%' % (np.mean(cv_acc2)*100))\n",
    "#         cv5_f1.append(np.mean(cv_acc))\n",
    "#         cv5_acc.append(np.mean(cv_acc2))\n",
    "        \n",
    "#         cv_res = [np.mean(cv5_result[0]), np.mean(cv5_result[1])]\n",
    "#         idx = pd.Series(cv_res).fillna(0).idxmax()\n",
    "#         best_model = [rf,xg][idx]\n",
    "#         print(best_model)\n",
    "#     return best_model\n"
   ]
  },
  {
   "cell_type": "code",
   "execution_count": null,
   "id": "c15c8e54",
   "metadata": {},
   "outputs": [],
   "source": []
  }
 ],
 "metadata": {
  "kernelspec": {
   "display_name": "Python 3 (ipykernel)",
   "language": "python",
   "name": "python3"
  },
  "language_info": {
   "codemirror_mode": {
    "name": "ipython",
    "version": 3
   },
   "file_extension": ".py",
   "mimetype": "text/x-python",
   "name": "python",
   "nbconvert_exporter": "python",
   "pygments_lexer": "ipython3",
   "version": "3.9.7"
  }
 },
 "nbformat": 4,
 "nbformat_minor": 5
}
