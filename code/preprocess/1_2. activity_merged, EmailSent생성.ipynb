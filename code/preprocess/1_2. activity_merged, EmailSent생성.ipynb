{
 "cells": [
  {
   "cell_type": "code",
   "execution_count": 1,
   "id": "bcd97769",
   "metadata": {},
   "outputs": [],
   "source": [
    "import pandas as pd \n",
    "import numpy as np \n",
    "import json\n",
    "import os\n",
    "import warnings \n",
    "warnings.filterwarnings(action='ignore') "
   ]
  },
  {
   "cell_type": "markdown",
   "id": "1e0972cb",
   "metadata": {},
   "source": [
    "1. Json to csv \n",
    "* ActivityField 로그 데이터 중 사용 데이터만 csv로 변환 후 저장\n",
    "\n",
    "2. activity_merged.csv 생성\n",
    "* 각 행동유형 별 전처리 \n",
    "    * 라벨링 (오퍼링, 행동유형)\n",
    "* 행동유형 \n",
    "    * ActivityField 로그:'EmailClickThrough', 'EmailOpen', 'WebVisit','FormSubmit'\n",
    "    * FormSubmit ->  counsel, inquiry, event, service_request, subscribe, survey, register\n",
    "    * CDO_webinar -> attend\n",
    "\n",
    "* 컬럼명 통일 후 activity_merged 생성, 저장 \n",
    "\n",
    "3. EmailSent 생성 ( CNS가 고객에게 보낸 이메일 )\n",
    "    * 미분류 오퍼링의 경우 손수 라벨링 해주기\n",
    "    "
   ]
  },
  {
   "cell_type": "code",
   "execution_count": 2,
   "id": "b0f1d443",
   "metadata": {},
   "outputs": [],
   "source": [
    "# 1. ActivityField 로그 데이터 중 사용 데이터만 csv로 변환 후 저장\n",
    "\n",
    "# 지정한 행동유형에 해당하는 json파일을 불러오고 모두 합친 데이터프레임을 반환. \n",
    "def merge_files(filename, path): \n",
    "    dir_list = os.listdir(path)\n",
    "    temp_list = list(filter(lambda x: filename in x, dir_list))\n",
    "    dataframe = [] \n",
    "    for i in range(0, len(temp_list)):\n",
    "        with open(path + temp_list[i], 'r') as f:\n",
    "            data = json.load(f)\n",
    "        df = pd.DataFrame.from_dict(data['items'])\n",
    "        dataframe.append(df)\n",
    "    return pd.concat([dataframe[i] for i in range(0,len(temp_list))])\n",
    "\n",
    "# 각 행동유형 별로 merge_files(filename, path) 이용해서 json파일을 불러오고, 모두 합친 후 \n",
    "# csv 파일로 타입변환 한 후 저장 \n",
    "def json_to_csv(activity_list, json_path, csv_path):\n",
    "    for activity in activity_list:\n",
    "        temp_df = merge_files(activity, json_path)\n",
    "        filename = activity + '.csv'\n",
    "        temp_df.to_csv(csv_path + filename, index = False)\n"
   ]
  },
  {
   "cell_type": "code",
   "execution_count": 3,
   "id": "0a48e515",
   "metadata": {},
   "outputs": [],
   "source": [
    "# 2. activityfield_merged 생성: 각 행동유형 별로 라벨링 후 모든 행동유형 합치기\n",
    "\n",
    "def email_open_click(csv_path):\n",
    "    email_open = pd.read_csv(csv_path + 'EmailOpen.csv', low_memory = False, usecols =['ContactId','ActivityDate','ActivityType','AssetId','AssetName'])\n",
    "    email_click = pd.read_csv(csv_path + 'EmailClickThrough.csv', low_memory = False, usecols =['ContactId','ActivityDate','ActivityType','AssetId','AssetName'])\n",
    "    data = pd.concat([email_open, email_click], axis =0)\n",
    "    data.AssetName = data.AssetName.apply(lambda x: str(x).replace(' ',''))\n",
    "    email_category = pd.read_excel('./labelling_category/action_activity.xlsx',sheet_name='EmailSendOpenClickthrough Asset')\n",
    "    email_category = email_category[['AssetName','cns_action (major)','Offering']].drop_duplicates(subset = ['AssetName','Offering'])\n",
    "    email_category.AssetName = email_category.AssetName.apply(lambda x: str(x).replace(' ',''))\n",
    "    email_merged = pd.merge(data, email_category, on = ['AssetName'], how = 'left').drop_duplicates()\n",
    "    email_merged = email_merged[(email_merged.Offering != 'USELESS') & (email_merged.Offering != 'TEST')]\n",
    "    email_merged.rename(columns={'ContactId':'ContactID'},inplace=True)\n",
    "    return email_merged\n"
   ]
  },
  {
   "cell_type": "code",
   "execution_count": 10,
   "id": "b1b60982",
   "metadata": {},
   "outputs": [],
   "source": [
    "\n",
    "def webvisit(csv_path): \n",
    "    webvisit = pd.read_csv(csv_path + 'WebVisit.csv', low_memory = False)\n",
    "    cloud = \"HRSaaS-NextHR|saas|singlex|AM|Cloud|CloudXper|ProOps|데이터센터|DataCenter|LaunchCenter|cloud|MSCloud|lgamday|launchcenter|amsurvey|lgamday|amevent\"\n",
    "    logi = 'logi|스마트물류|물류|SmartTransportation|smartlogistics|SmartLogistic'\n",
    "    pub = 'public|Publicity'; blc = 'Blockchain|Monachain'\n",
    "    smcity = 'smartcity'; infra = 'Infra|infra'\n",
    "    aidata = 'DAP|챗봇|Chatbot|RPA|AI|AI튜터|마이데이터|aidata|AIDay|RobotService|aibigdata|dap|aiday2021'\n",
    "    consult = 'entrue|Entrue|consulting|Consulting'; dcx = 'dcx|DCX';unknown = 'S007_Subscription'\n",
    "    fin = 'Finance|finance'; secu = 'OTSecurity|Security|Summit|security|SecuXperfree'\n",
    "    dxsol = \"DevOn|MSA|Solution|solution|dxsolution|Tuna|TunA|SolutionDay|devonmsa|PerfecTwinSuite|devonncd|FreeTrial\"\n",
    "    general = 'TechDay|lgcns-techday2022|techday|techdaysurvey|Softwave|softwave|SoftWave'\n",
    "    \n",
    "    d = {'cloud': cloud, 'infra':infra,'logi': logi, 'pub': pub, 'blc':blc, 'smcity':smcity, \n",
    "        'aidata':aidata, 'consult':consult, 'dcx':dcx, 'fin': fin, \n",
    "        'secu': secu, 'dxsol':dxsol, 'general':general, 'unknown':unknown}\n",
    "\n",
    "    webvisit['Offering'] = 0\n",
    "    offerings = list(d.keys()); word_lists = list(d.values())\n",
    "\n",
    "    for i in range(len(offerings)):\n",
    "        offering = offerings[i]; word_list = word_lists[i]\n",
    "        idx = list(webvisit.FirstPageViewUrl.loc[webvisit.FirstPageViewUrl.str.contains(word_list)].index)\n",
    "        webvisit['Offering'][idx] = offering\n",
    "\n",
    "    idx = webvisit[(webvisit.Offering == 0) | (webvisit.Offering == '0')].index\n",
    "    webvisit.drop(idx)\n",
    "    webvisit.rename(columns={'ContactId':'ContactID'}, inplace=True)\n",
    "    cols = ['ContactID', 'ActivityDate', 'ActivityType', 'Offering']\n",
    "    return webvisit[cols]\n",
    "\n",
    "\n",
    "def formsubmit(csv_path):\n",
    "    form = pd.read_csv(csv_path + 'FormSubmit.csv')\n",
    "    form.AssetName = form.AssetName.apply(lambda x: x.replace(' ',''))\n",
    "    form_category =  pd.read_excel('./labelling_category/action_activity.xlsx',sheet_name='Formsubmit AssetType 분류')\n",
    "    form_merged = pd.merge(form[['ActivityDate', 'ContactId', 'AssetId', 'AssetName','CampaignId']],form_category, on=['AssetId','AssetName'],how='left').drop_duplicates()\n",
    "    form_merged.rename(columns={'ContactId':'ContactID'},inplace=True)\n",
    "    form_merged = form_merged[(form_merged.Offering != 'USELESS') & (form_merged.Offering != 'TEST')]\n",
    "    return form_merged\n",
    "\n",
    "\n",
    "def attend(cdo_path): # CDO_webinar 전처리\n",
    "    webinar = pd.read_csv(cdo_path + 'CDO_webinar.csv')\n",
    "    # 참석한 사람만 걸러내기 \n",
    "    attendees = webinar[webinar['참석여부'] == 'Y'] \n",
    "    attendees = attendees.loc[:, ['ContactID','Date Modified','로그인시간', '웨비나명']].drop_duplicates()\n",
    "    attendees.columns = ['ContactID','Date Modified', 'ActivityDate', 'AssetName']\n",
    "    idx = attendees[attendees.ActivityDate.isna()].index \n",
    "    attendees['ActivityDate'][idx] = attendees['Date Modified'][idx]\n",
    "    attendees.drop(['Date Modified'], axis=1,inplace=True)\n",
    "    attendees['ActivityType'] = 'attend'\n",
    "\n",
    "    # 오퍼링 열 추가\n",
    "    attendees['Offering'] = 0\n",
    "    attendees.loc[attendees['AssetName'].str.contains(\"AM|Cloud|CloudXper|ProOps|데이터센터|LaunchCenter\"), 'Offering'] =  'cloud'\n",
    "    attendees.loc[attendees['AssetName'].str.contains(\"DevOn|MSA|Solution\"), 'Offering'] =  'dxsol'\n",
    "    attendees.loc[attendees['AssetName'].str.contains(\"DCX\"), 'Offering'] =  'dcx'\n",
    "    attendees.loc[attendees['AssetName'].str.contains(\"DAP|챗봇|RPA|AI|AI튜터|마이데이터\"), 'Offering'] =  'aidata'\n",
    "    attendees.loc[attendees['AssetName'].str.contains(\"Finance\"), 'Offering'] =  'fin'\n",
    "    attendees.loc[attendees['AssetName'].str.contains(\"OTSecurity|Security|Summit\"), 'Offering'] =  'secu'\n",
    "    attendees.loc[attendees['AssetName'].str.contains(\"Entrue\"), 'Offering'] =  'consult'\n",
    "    attendees.loc[attendees['AssetName'].str.contains(\"TechDay\"), 'Offering'] =  'general'\n",
    "    \n",
    "    return attendees[(attendees.ContactID.notna()) & (attendees.ContactID != '-')]"
   ]
  },
  {
   "cell_type": "code",
   "execution_count": 11,
   "id": "6940db70",
   "metadata": {},
   "outputs": [],
   "source": [
    "save_path = '../../data/processed1/'\n",
    "\n",
    "def create_save_activityfield_merged(save_path, save_option='n'): # 모든 행동유형 합친 뒤 저장 \n",
    "    csv_path = '../../data/raw_data/ActivityField_csv/'\n",
    "    cdo_path = '../../data/raw_data/'\n",
    "    \n",
    "    email_merged = email_open_click(csv_path)\n",
    "    web = webvisit(csv_path)\n",
    "    form = formsubmit(csv_path)\n",
    "    webinar = attend(cdo_path)\n",
    "    \n",
    "    activity_merged = pd.concat([email_merged, web, form, webinar])\n",
    "    activity_merged.drop_duplicates(inplace = True)\n",
    "    activity_merged.sort_values(by = ['ContactID', 'ActivityDate'],inplace=True)\n",
    "    activity_merged.reset_index(drop=True, inplace=True)\n",
    "    activity_merged = activity_merged[['ContactID', 'ActivityType', 'ActivityDate', 'AssetId', 'AssetName','cns_action (major)', 'Offering']]\n",
    "    activity_merged = activity_merged[activity_merged.ContactID.notna()]\n",
    "    activity_merged = activity_merged.replace({'WebVisit':'webvisit'})\n",
    "    activity_merged = activity_merged[(activity_merged.ActivityType.notna()) &(activity_merged.ActivityType != 'USELESS')]\n",
    "    \n",
    "    if save_option == 'y':\n",
    "        activity_merged.to_csv(save_path + 'activity_merged.csv',index=False)\n",
    "        print('Merged Activity Logs are saved to path: ',save_path, '\\nfilename: activity_merged.csv')\n",
    "    return activity_merged\n"
   ]
  },
  {
   "cell_type": "code",
   "execution_count": 12,
   "id": "3f564437",
   "metadata": {},
   "outputs": [],
   "source": [
    "save_path = '../../data/processed1/'\n",
    "def create_save_emailsent(csv_path, save_option='n'):\n",
    "    send = pd.read_csv(csv_path + 'EmailSend.csv', usecols =['ContactId','ActivityDate','ActivityType','AssetId','AssetName'])\n",
    "    send.dropna(subset = ['ActivityDate'],axis=0, inplace = True)\n",
    "\n",
    "    email_category = pd.read_excel('./labelling_category/action_activity.xlsx',sheet_name='EmailSendOpenClickthrough Asset')\n",
    "    email_category = email_category[['AssetName','cns_action (major)','Offering']].drop_duplicates(subset = ['AssetName','Offering'])\n",
    "    send.AssetName = send.AssetName.apply(lambda x: str(x).replace(' ',''))\n",
    "    email_category.AssetName = email_category.AssetName.apply(lambda x: str(x).replace(' ',''))\n",
    "    merged = pd.merge(send, email_category, on = ['AssetName'], how = 'left').drop_duplicates()\n",
    "    merged.reset_index(drop=True, inplace=True)\n",
    "    \n",
    "\n",
    "    merged_new = merged[(merged.Offering != 'USELESS') & (merged.Offering != 'TEST')]\n",
    "    merged_new.rename(columns={'ContactId':'ContactID'},inplace=True)\n",
    "    merged_new.sort_values(by = ['ContactID', 'ActivityDate'],inplace=True)\n",
    "    merged_new.reset_index(drop = True, inplace=True)\n",
    "    if save_option == 'y':\n",
    "        merged_new.to_csv(save_path + 'EmailSent.csv',index=False)\n",
    "        print('EmailSent file is now saved to path: ', save_path,'\\nfilename: EmailSent.csv')\n",
    "    return merged_new\n",
    "    #display(merged_new)\n",
    "    "
   ]
  },
  {
   "cell_type": "code",
   "execution_count": 13,
   "id": "57550ec0",
   "metadata": {},
   "outputs": [],
   "source": [
    "csv_path = '../../data/raw_data/ActivityField_csv/'\n",
    "json_path = '../../data/raw_data/ActivityField_json/'\n",
    "save_path = '../../data/processed1/'"
   ]
  },
  {
   "cell_type": "code",
   "execution_count": 14,
   "id": "5fa994e4",
   "metadata": {},
   "outputs": [],
   "source": [
    "# json to csv 실행 코드 \n",
    "activity_list = ['EmailClickThrough', 'EmailOpen', 'EmailSend','WebVisit','FormSubmit']\n",
    "#json_to_csv(activity_list,json_path,  csv_path)"
   ]
  },
  {
   "cell_type": "code",
   "execution_count": 15,
   "id": "d563abb5",
   "metadata": {},
   "outputs": [
    {
     "name": "stdout",
     "output_type": "stream",
     "text": [
      "Merged Activity Logs are saved to path:  ../../data/processed1/ \n",
      "filename: activity_merged.csv\n"
     ]
    }
   ],
   "source": [
    "# 코드 실행: activity merged 데이터 만들고 지정 경로에 저장\n",
    "activity = create_save_activityfield_merged(save_path, 'y')"
   ]
  },
  {
   "cell_type": "code",
   "execution_count": 16,
   "id": "0b8e2df4",
   "metadata": {},
   "outputs": [
    {
     "name": "stdout",
     "output_type": "stream",
     "text": [
      "EmailSent file is now saved to path:  ../../data/processed1/ \n",
      "filename: EmailSent.csv\n"
     ]
    }
   ],
   "source": [
    "# 코드 실행: EmailSent 데이터 만들고 지정 경로에 저장 \n",
    "sent = create_save_emailsent(csv_path, 'y')"
   ]
  },
  {
   "cell_type": "code",
   "execution_count": 17,
   "id": "48ad7569",
   "metadata": {},
   "outputs": [
    {
     "data": {
      "text/plain": [
       "(739687, 7)"
      ]
     },
     "execution_count": 17,
     "metadata": {},
     "output_type": "execute_result"
    }
   ],
   "source": [
    "activity.shape"
   ]
  },
  {
   "cell_type": "code",
   "execution_count": 19,
   "id": "e0dc88ce",
   "metadata": {},
   "outputs": [
    {
     "data": {
      "text/plain": [
       "(903110, 7)"
      ]
     },
     "execution_count": 19,
     "metadata": {},
     "output_type": "execute_result"
    }
   ],
   "source": [
    "sent.shape"
   ]
  },
  {
   "cell_type": "code",
   "execution_count": null,
   "id": "c746a305",
   "metadata": {},
   "outputs": [],
   "source": []
  }
 ],
 "metadata": {
  "kernelspec": {
   "display_name": "Python 3 (ipykernel)",
   "language": "python",
   "name": "python3"
  },
  "language_info": {
   "codemirror_mode": {
    "name": "ipython",
    "version": 3
   },
   "file_extension": ".py",
   "mimetype": "text/x-python",
   "name": "python",
   "nbconvert_exporter": "python",
   "pygments_lexer": "ipython3",
   "version": "3.9.7"
  }
 },
 "nbformat": 4,
 "nbformat_minor": 5
}
